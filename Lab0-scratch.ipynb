{
 "cells": [
  {
   "cell_type": "code",
   "execution_count": 1,
   "id": "lucky-kentucky",
   "metadata": {},
   "outputs": [
    {
     "name": "stdout",
     "output_type": "stream",
     "text": [
      "Hello Jupyter\n"
     ]
    }
   ],
   "source": [
    "print(\"Hello Jupyter\")"
   ]
  },
  {
   "cell_type": "markdown",
   "id": "unauthorized-ambassador",
   "metadata": {},
   "source": [
    "print(\"Hello Jupyter\")"
   ]
  },
  {
   "cell_type": "markdown",
   "id": "introductory-columbus",
   "metadata": {},
   "source": [
    "# Title\n",
    "This is my first markdown cell! "
   ]
  },
  {
   "cell_type": "code",
   "execution_count": 4,
   "id": "precious-cement",
   "metadata": {},
   "outputs": [
    {
     "name": "stdout",
     "output_type": "stream",
     "text": [
      "This is my first code cell!\n"
     ]
    }
   ],
   "source": [
    "print(\"This is my first code cell!\")"
   ]
  },
  {
   "cell_type": "markdown",
   "id": "demanding-chorus",
   "metadata": {},
   "source": [
    "**my writing is in bold**\n"
   ]
  },
  {
   "cell_type": "code",
   "execution_count": 5,
   "id": "matched-harbor",
   "metadata": {},
   "outputs": [
    {
     "name": "stdout",
     "output_type": "stream",
     "text": [
      "3 + 4 is 7\n"
     ]
    }
   ],
   "source": [
    "a=3\n",
    "b=4\n",
    "print(a,\"+\",b,\"is\", a+b)"
   ]
  },
  {
   "cell_type": "markdown",
   "id": "talented-chosen",
   "metadata": {},
   "source": [
    "This can write `code` in the markdown!"
   ]
  },
  {
   "cell_type": "code",
   "execution_count": 6,
   "id": "overhead-great",
   "metadata": {},
   "outputs": [
    {
     "name": "stdout",
     "output_type": "stream",
     "text": [
      "Hello Sasha\n"
     ]
    }
   ],
   "source": [
    "def greet(name):\n",
    "    print(\"Hello\",name)\n",
    "\n",
    "greet(\"Sasha\")"
   ]
  },
  {
   "cell_type": "code",
   "execution_count": null,
   "id": "prostate-battery",
   "metadata": {},
   "outputs": [],
   "source": []
  },
  {
   "cell_type": "code",
   "execution_count": null,
   "id": "static-child",
   "metadata": {},
   "outputs": [],
   "source": []
  }
 ],
 "metadata": {
  "kernelspec": {
   "display_name": "Python 3",
   "language": "python",
   "name": "python3"
  },
  "language_info": {
   "codemirror_mode": {
    "name": "ipython",
    "version": 3
   },
   "file_extension": ".py",
   "mimetype": "text/x-python",
   "name": "python",
   "nbconvert_exporter": "python",
   "pygments_lexer": "ipython3",
   "version": "3.8.5"
  }
 },
 "nbformat": 4,
 "nbformat_minor": 5
}
